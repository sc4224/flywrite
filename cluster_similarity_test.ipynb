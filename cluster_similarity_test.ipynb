{
 "cells": [
  {
   "cell_type": "code",
   "execution_count": null,
   "metadata": {},
   "outputs": [],
   "source": [
    "# in this notebook, we load two cluster assignments, create dictionaries using the shared examples only based on their keys, and measure their similarities."
   ]
  },
  {
   "cell_type": "code",
   "execution_count": 13,
   "metadata": {},
   "outputs": [],
   "source": [
    "# let's load a few important packages for checking the cluster similarities\n",
    "import numpy as np\n",
    "import pandas as pd\n",
    "import os\n",
    "import sys\n",
    "import json\n",
    "from collections import Counter\n",
    "from sklearn.metrics import adjusted_rand_score\n",
    "from sklearn.metrics import normalized_mutual_info_score\n",
    "from sklearn.metrics import adjusted_mutual_info_score\n",
    "from sklearn.metrics import fowlkes_mallows_score\n",
    "from sklearn.metrics import silhouette_score\n",
    "from sklearn.metrics import calinski_harabasz_score\n",
    "from sklearn.metrics import davies_bouldin_score\n",
    "from sklearn.metrics import pairwise_distances\n",
    "from sklearn.metrics import silhouette_samples"
   ]
  },
  {
   "cell_type": "code",
   "execution_count": 14,
   "metadata": {},
   "outputs": [],
   "source": [
    "# let's load the target/ground-truth cluster assignments. it's in `root_id_type_dict.pkl` file.\n",
    "import pickle\n",
    "root_id_type_dict = pickle.load(open('root_id_type_dict.pkl', 'rb'))"
   ]
  },
  {
   "cell_type": "code",
   "execution_count": 15,
   "metadata": {},
   "outputs": [],
   "source": [
    "# let's load the estimated cluster assignments from `cluster_assignment_dict.npy`\n",
    "pca_cluster_assignment_dict = np.load('pca_cluster_assignment_dict.npy', allow_pickle=True).item()\n",
    "lv_cluster_assignment_dict = np.load('cluster_assignment_dict.npy', allow_pickle=True).item()"
   ]
  },
  {
   "cell_type": "code",
   "execution_count": 16,
   "metadata": {},
   "outputs": [],
   "source": [
    "# first, let's create a dictionary of the keys of `root_id_type_dict` mapped to integer indices.\n",
    "root_id_type_dict_keys = list(root_id_type_dict.keys())\n",
    "root_id_type_dict_keys_dict = {root_id_type_dict_keys[i]: i for i in range(len(root_id_type_dict_keys))}"
   ]
  },
  {
   "cell_type": "code",
   "execution_count": 17,
   "metadata": {},
   "outputs": [
    {
     "data": {
      "text/plain": [
       "720575940631267655"
      ]
     },
     "execution_count": 17,
     "metadata": {},
     "output_type": "execute_result"
    }
   ],
   "source": [
    "list(pca_cluster_assignment_dict.keys())[1]"
   ]
  },
  {
   "cell_type": "code",
   "execution_count": 18,
   "metadata": {},
   "outputs": [],
   "source": [
    "shared_root_ids = list(set(root_id_type_dict.keys())\n",
    "                       .intersection(set(pca_cluster_assignment_dict.keys())\n",
    "                                     .intersection(set(lv_cluster_assignment_dict.keys()))))"
   ]
  },
  {
   "cell_type": "code",
   "execution_count": 19,
   "metadata": {},
   "outputs": [
    {
     "name": "stdout",
     "output_type": "stream",
     "text": [
      "there are 744 unique cluster assignments in the ground-truth data.\n"
     ]
    }
   ],
   "source": [
    "root_id_type_dict_cluster_strings = list(set(root_id_type_dict.values()))\n",
    "cluster_string_to_cid = dict([(cluster_string, cid) \n",
    "                              for cid, cluster_string\n",
    "                              in enumerate(root_id_type_dict_cluster_strings)])\n",
    "cid_to_cluster_string = dict([(cid, cluster_string) \n",
    "                              for cluster_string, cid\n",
    "                              in cluster_string_to_cid.items()])\n",
    "print(f'there are {len(cluster_string_to_cid)} unique cluster assignments in the ground-truth data.')"
   ]
  },
  {
   "cell_type": "code",
   "execution_count": 20,
   "metadata": {},
   "outputs": [],
   "source": [
    "gt_assignments = np.array([cluster_string_to_cid[root_id_type_dict[root_id]] for root_id in shared_root_ids])\n",
    "pca_assignments = np.array([pca_cluster_assignment_dict[root_id] for root_id in shared_root_ids])\n",
    "lv_assignments = np.array([lv_cluster_assignment_dict[root_id] for root_id in shared_root_ids])"
   ]
  },
  {
   "cell_type": "code",
   "execution_count": 21,
   "metadata": {},
   "outputs": [
    {
     "data": {
      "text/plain": [
       "(array([ 65, 442, 442, 430, 316, 225, 442, 360, 144, 156]),\n",
       " array([170, 849, 253, 603, 213, 599, 903, 938, 802, 829]),\n",
       " array([504, 904, 677, 765, 156,  58, 102, 219,  79, 102]))"
      ]
     },
     "execution_count": 21,
     "metadata": {},
     "output_type": "execute_result"
    }
   ],
   "source": [
    "gt_assignments[:10], pca_assignments[:10], lv_assignments[:10]"
   ]
  },
  {
   "cell_type": "code",
   "execution_count": 23,
   "metadata": {},
   "outputs": [
    {
     "name": "stdout",
     "output_type": "stream",
     "text": [
      "# of unique cluster assignments in the ground-truth data: 744\n",
      "# of unique cluster assignments in the PCA data: 896\n",
      "# of unique cluster assignments in the LV data: 685\n"
     ]
    }
   ],
   "source": [
    "print(f'# of unique cluster assignments in the ground-truth data: {len(np.unique(gt_assignments))}')\n",
    "print(f'# of unique cluster assignments in the PCA data: {len(np.unique(pca_assignments))}')\n",
    "print(f'# of unique cluster assignments in the LV data: {len(np.unique(lv_assignments))}')"
   ]
  },
  {
   "cell_type": "code",
   "execution_count": 24,
   "metadata": {},
   "outputs": [],
   "source": [
    "# create a random assignment by randomly permuting `target_assignment`\n",
    "random_assignment_optimistic = np.random.permutation(gt_assignments)\n",
    "random_assignment_pessimistic = np.random.randint(0, np.unique(gt_assignments).shape[0], gt_assignments.shape[0])"
   ]
  },
  {
   "cell_type": "code",
   "execution_count": 25,
   "metadata": {},
   "outputs": [
    {
     "name": "stdout",
     "output_type": "stream",
     "text": [
      "# of unique cluster assignments in the random assignment (optimistic): 744\n",
      "# of unique cluster assignments in the random assignment (pessimistic): 744\n"
     ]
    }
   ],
   "source": [
    "print(f'# of unique cluster assignments in the random assignment (optimistic): {len(np.unique(random_assignment_optimistic))}')\n",
    "print(f'# of unique cluster assignments in the random assignment (pessimistic): {len(np.unique(random_assignment_pessimistic))}')"
   ]
  },
  {
   "cell_type": "code",
   "execution_count": 26,
   "metadata": {},
   "outputs": [],
   "source": [
    "def confusion_matrix(X, Y):\n",
    "    assert len(X) == len(Y)\n",
    "\n",
    "    unique_x = np.unique(X)\n",
    "    unique_y = np.unique(Y)\n",
    "\n",
    "    x_dict = dict([(unique_x[i], i) for i in range(len(unique_x))])\n",
    "    y_dict = dict([(unique_y[i], i) for i in range(len(unique_y))])\n",
    "\n",
    "    confusion_matrix = np.zeros((len(unique_x), len(unique_y)))\n",
    "\n",
    "    for i in range(len(X)):\n",
    "        confusion_matrix[x_dict[X[i]], y_dict[Y[i]]] += 1\n",
    "\n",
    "    return confusion_matrix"
   ]
  },
  {
   "cell_type": "code",
   "execution_count": 27,
   "metadata": {},
   "outputs": [],
   "source": [
    "from scipy.optimize import linear_sum_assignment\n",
    "\n",
    "def compare_two_assignments(assignment_A, assignment_B):\n",
    "    confusion_matrix_value = confusion_matrix(assignment_A, assignment_B)\n",
    "\n",
    "    # Align clusters using the Hungarian algorithm\n",
    "    row_ind, col_ind = linear_sum_assignment(confusion_matrix_value, maximize=True)\n",
    "    score = confusion_matrix_value[row_ind, col_ind].sum()\n",
    "\n",
    "    # Reorder columns of the confusion matrix to align clusters\n",
    "    aligned_confusion_matrix = confusion_matrix_value[:, col_ind]\n",
    "\n",
    "    return score, aligned_confusion_matrix"
   ]
  },
  {
   "cell_type": "code",
   "execution_count": 28,
   "metadata": {},
   "outputs": [
    {
     "name": "stdout",
     "output_type": "stream",
     "text": [
      "PCA: 3463.0\n",
      "LV: 20398.0\n",
      "Random (optimistic): 2243.0\n",
      "Random (pessimistic): 1299.0\n"
     ]
    }
   ],
   "source": [
    "# compare the ground-truth assignment against (a) PCA assignment, (b) LV assignment, (c) random assignment (optimistic), and (d) random assignment (pessimistic)\n",
    "score_pca, _ = compare_two_assignments(gt_assignments, pca_assignments)\n",
    "score_lv, _ = compare_two_assignments(gt_assignments, lv_assignments)\n",
    "score_random_optimistic, _ = compare_two_assignments(gt_assignments, random_assignment_optimistic)\n",
    "score_random_pessimistic, _ = compare_two_assignments(gt_assignments, random_assignment_pessimistic)\n",
    "\n",
    "print(f'PCA: {score_pca}')\n",
    "print(f'LV: {score_lv}')\n",
    "print(f'Random (optimistic): {score_random_optimistic}')\n",
    "print(f'Random (pessimistic): {score_random_pessimistic}')"
   ]
  },
  {
   "cell_type": "code",
   "execution_count": 16,
   "metadata": {},
   "outputs": [
    {
     "name": "stdout",
     "output_type": "stream",
     "text": [
      "PCA vs. LV: 4502.0\n"
     ]
    }
   ],
   "source": [
    "# check the similarity between PCA and LV assignments\n",
    "score_pca_lv, _ = compare_two_assignments(pca_assignments, lv_assignments)\n",
    "\n",
    "print(f\"PCA vs. LV: {score_pca_lv}\")"
   ]
  },
  {
   "cell_type": "code",
   "execution_count": 10,
   "metadata": {},
   "outputs": [],
   "source": [
    "from matplotlib import pyplot as plot"
   ]
  },
  {
   "cell_type": "code",
   "execution_count": 22,
   "metadata": {},
   "outputs": [
    {
     "data": {
      "image/png": "[encoded data removed]",
      "text/plain": [
       "<Figure size 640x480 with 1 Axes>"
      ]
     },
     "metadata": {},
     "output_type": "display_data"
    }
   ],
   "source": [
    "plot.figure()\n",
    "\n",
    "plot.hist(gt_assignments)\n",
    "\n",
    "plot.show()"
   ]
  },
  {
   "cell_type": "code",
   "execution_count": 12,
   "metadata": {},
   "outputs": [
    {
     "data": {
      "image/png": "[encoded data removed]",
      "text/plain": [
       "<Figure size 640x480 with 1 Axes>"
      ]
     },
     "metadata": {},
     "output_type": "display_data"
    }
   ],
   "source": [
    "plot.figure()\n",
    "\n",
    "plot.hist(lv_assignments)\n",
    "\n",
    "plot.show()"
   ]
  },
  {
   "cell_type": "code",
   "execution_count": null,
   "metadata": {},
   "outputs": [],
   "source": []
  }
 ],
 "metadata": {
  "kernelspec": {
   "display_name": "Python 3 (ipykernel)",
   "language": "python",
   "name": "python3"
  },
  "language_info": {
   "codemirror_mode": {
    "name": "ipython",
    "version": 3
   },
   "file_extension": ".py",
   "mimetype": "text/x-python",
   "name": "python",
   "nbconvert_exporter": "python",
   "pygments_lexer": "ipython3",
   "version": "3.13.2"
  }
 },
 "nbformat": 4,
 "nbformat_minor": 4
}
