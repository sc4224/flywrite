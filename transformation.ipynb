{
 "cells": [
  {
   "cell_type": "code",
   "execution_count": 1,
   "id": "d7b166e6-6ceb-4ae0-8163-244464508ebf",
   "metadata": {},
   "outputs": [],
   "source": [
    "from scipy.sparse import load_npz\n",
    "import numpy as np"
   ]
  },
  {
   "cell_type": "code",
   "execution_count": 12,
   "id": "fcb7a4fa-500c-4400-a565-fc6cc46b0b4c",
   "metadata": {},
   "outputs": [],
   "source": [
    "adj_matrix = load_npz(\"./sparse_connectivity_matrix.npz\")"
   ]
  },
  {
   "cell_type": "code",
   "execution_count": 13,
   "id": "ceea7ef1-b113-4eb3-8593-beb132a00a6b",
   "metadata": {},
   "outputs": [
    {
     "data": {
      "text/plain": [
       "15091983"
      ]
     },
     "execution_count": 13,
     "metadata": {},
     "output_type": "execute_result"
    }
   ],
   "source": [
    "adj_matrix.nnz"
   ]
  },
  {
   "cell_type": "code",
   "execution_count": 6,
   "id": "172181a3-5c77-4ce7-a1bf-e8ad6c650c09",
   "metadata": {},
   "outputs": [
    {
     "data": {
      "text/plain": [
       "array([2, 2, 2, ..., 1, 1, 1], shape=(15091983,), dtype=int8)"
      ]
     },
     "execution_count": 6,
     "metadata": {},
     "output_type": "execute_result"
    }
   ],
   "source": [
    "adj_matrix.data"
   ]
  },
  {
   "cell_type": "code",
   "execution_count": 9,
   "id": "7d6cc6be-74ed-439d-9927-0f02f791bb8d",
   "metadata": {},
   "outputs": [],
   "source": [
    "# Threshold the sparse matrix to obtain a binary adjacency matrix\n",
    "adj_matrix.data = (adj_matrix.data > 0).astype(np.int8)"
   ]
  },
  {
   "cell_type": "code",
   "execution_count": 10,
   "id": "86ceeb3b-9076-44f6-9cf7-0bb2f231f4f8",
   "metadata": {},
   "outputs": [
    {
     "data": {
      "text/plain": [
       "array([1, 1, 1, ..., 1, 1, 1], shape=(15091983,), dtype=int8)"
      ]
     },
     "execution_count": 10,
     "metadata": {},
     "output_type": "execute_result"
    }
   ],
   "source": [
    "adj_matrix.data"
   ]
  },
  {
   "cell_type": "code",
   "execution_count": 2,
   "id": "02e85f41-32f5-46c9-9197-734cfb98d7f5",
   "metadata": {},
   "outputs": [],
   "source": [
    "matrix_info = np.load(\"./sparse_connectivity_matrix.npz\", mmap_mode='r')"
   ]
  },
  {
   "cell_type": "code",
   "execution_count": 3,
   "id": "fd65f83a-e822-4c1c-a3ad-ca9d9db6fc72",
   "metadata": {},
   "outputs": [
    {
     "data": {
      "text/plain": [
       "array([2, 2, 2, ..., 1, 1, 1], shape=(15091983,), dtype=int8)"
      ]
     },
     "execution_count": 3,
     "metadata": {},
     "output_type": "execute_result"
    }
   ],
   "source": [
    "matrix_info[\"data\"]"
   ]
  },
  {
   "cell_type": "code",
   "execution_count": 5,
   "id": "e1199d87-9f53-47e4-9c43-42cf0f572e04",
   "metadata": {},
   "outputs": [
    {
     "data": {
      "text/plain": [
       "array([138639, 138639])"
      ]
     },
     "execution_count": 5,
     "metadata": {},
     "output_type": "execute_result"
    }
   ],
   "source": [
    "matrix_info[\"shape\"]"
   ]
  },
  {
   "cell_type": "code",
   "execution_count": 11,
   "id": "79a7896b-b870-42c1-9a18-cbb748208553",
   "metadata": {},
   "outputs": [
    {
     "data": {
      "text/plain": [
       "(array([0, 1, 2, 3, 4]),)"
      ]
     },
     "execution_count": 11,
     "metadata": {},
     "output_type": "execute_result"
    }
   ],
   "source": [
    "np.nonzero(matrix_info)"
   ]
  },
  {
   "cell_type": "code",
   "execution_count": null,
   "id": "58f0c563-0e9a-432e-bbc3-8d044eca9eaf",
   "metadata": {},
   "outputs": [],
   "source": []
  }
 ],
 "metadata": {
  "kernelspec": {
   "display_name": "Python 3 (ipykernel)",
   "language": "python",
   "name": "python3"
  },
  "language_info": {
   "codemirror_mode": {
    "name": "ipython",
    "version": 3
   },
   "file_extension": ".py",
   "mimetype": "text/x-python",
   "name": "python",
   "nbconvert_exporter": "python",
   "pygments_lexer": "ipython3",
   "version": "3.13.2"
  }
 },
 "nbformat": 4,
 "nbformat_minor": 5
}
